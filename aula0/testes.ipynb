{
 "cells": [
  {
   "cell_type": "code",
   "execution_count": 1,
   "metadata": {},
   "outputs": [
    {
     "data": {
      "text/plain": [
       "60"
      ]
     },
     "execution_count": 1,
     "metadata": {},
     "output_type": "execute_result"
    }
   ],
   "source": [
    "def soma(lista):\n",
    "    resultado = 0\n",
    "    \n",
    "    for i in(lista):\n",
    "        resultado = i + resultado\n",
    "\n",
    "    return resultado\n",
    "\n",
    "soma([10,20,30])"
   ]
  },
  {
   "cell_type": "code",
   "execution_count": 24,
   "metadata": {},
   "outputs": [],
   "source": [
    "def media(lista):\n",
    "    return sum(lista)/len(lista)\n"
   ]
  },
  {
   "cell_type": "code",
   "execution_count": 10,
   "metadata": {},
   "outputs": [],
   "source": [
    "def cresce(lista):\n",
    "    lista.append((lista[-1])+1)\n",
    "    return lista\n",
    "\n",
    "cresce([2,3,4,5,6])"
   ]
  },
  {
   "cell_type": "code",
   "execution_count": 32,
   "metadata": {},
   "outputs": [
    {
     "data": {
      "text/plain": [
       "['Ac', '2c', '3c', '4c', '5c', '6c', '7c', '8c', '9c', '10c', 'Jc', 'Qc', 'Kc']"
      ]
     },
     "execution_count": 32,
     "metadata": {},
     "output_type": "execute_result"
    }
   ],
   "source": [
    "def cria_naipe(naipe):\n",
    "    valores = ['A','2','3','4','5','6','7','8','9','10','J','Q','K']\n",
    "    resposta = []\n",
    "    for i in valores:\n",
    "        resposta.append(i+naipe)\n",
    "    return resposta\n",
    "\n",
    "cria_naipe('c')"
   ]
  },
  {
   "cell_type": "code",
   "execution_count": 21,
   "metadata": {},
   "outputs": [
    {
     "data": {
      "text/plain": [
       "['Ao',\n",
       " '2o',\n",
       " '3o',\n",
       " '4o',\n",
       " '5o',\n",
       " '6o',\n",
       " '7o',\n",
       " '8o',\n",
       " '9o',\n",
       " '10o',\n",
       " 'Jo',\n",
       " 'Qo',\n",
       " 'Ko',\n",
       " 'Ap',\n",
       " '2p',\n",
       " '3p',\n",
       " '4p',\n",
       " '5p',\n",
       " '6p',\n",
       " '7p',\n",
       " '8p',\n",
       " '9p',\n",
       " '10p',\n",
       " 'Jp',\n",
       " 'Qp',\n",
       " 'Kp',\n",
       " 'Ac',\n",
       " '2c',\n",
       " '3c',\n",
       " '4c',\n",
       " '5c',\n",
       " '6c',\n",
       " '7c',\n",
       " '8c',\n",
       " '9c',\n",
       " '10c',\n",
       " 'Jc',\n",
       " 'Qc',\n",
       " 'Kc',\n",
       " 'Ae',\n",
       " '2e',\n",
       " '3e',\n",
       " '4e',\n",
       " '5e',\n",
       " '6e',\n",
       " '7e',\n",
       " '8e',\n",
       " '9e',\n",
       " '10e',\n",
       " 'Je',\n",
       " 'Qe',\n",
       " 'Ke']"
      ]
     },
     "execution_count": 21,
     "metadata": {},
     "output_type": "execute_result"
    }
   ],
   "source": [
    "def cria_baralho():\n",
    "    baralho=[]\n",
    "    naipes = ['o','p','c','e']\n",
    "    valores = ['A','2','3','4','5','6','7','8','9','10','J','Q','K']\n",
    "    for i in naipes:\n",
    "        for j in valores:\n",
    "            baralho.append(j+i)\n",
    "    return baralho\n",
    "\n",
    "cria_baralho()"
   ]
  },
  {
   "cell_type": "code",
   "execution_count": 27,
   "metadata": {},
   "outputs": [
    {
     "data": {
      "text/plain": [
       "[30, 40]"
      ]
     },
     "execution_count": 27,
     "metadata": {},
     "output_type": "execute_result"
    }
   ],
   "source": [
    "def acima_da_media(lista):\n",
    "    resposta = []\n",
    "    medias= media(lista)\n",
    "    for i in lista:\n",
    "        if(i>medias):\n",
    "            resposta.append(i)\n",
    "    return resposta\n",
    "\n",
    "acima_da_media([10,20,30,40])"
   ]
  },
  {
   "cell_type": "code",
   "execution_count": 30,
   "metadata": {},
   "outputs": [
    {
     "data": {
      "text/plain": [
       "[20, 10]"
      ]
     },
     "execution_count": 30,
     "metadata": {},
     "output_type": "execute_result"
    }
   ],
   "source": [
    "def  liquidacao(precos,descontos):\n",
    "    precos_finais=[]\n",
    "    for i,j in zip(precos,descontos):\n",
    "        precos_finais.append(i-j)\n",
    "    return precos_finais\n",
    "\n",
    "liquidacao([30,20],[10,10])"
   ]
  }
 ],
 "metadata": {
  "kernelspec": {
   "display_name": "Python 3",
   "language": "python",
   "name": "python3"
  },
  "language_info": {
   "codemirror_mode": {
    "name": "ipython",
    "version": 3
   },
   "file_extension": ".py",
   "mimetype": "text/x-python",
   "name": "python",
   "nbconvert_exporter": "python",
   "pygments_lexer": "ipython3",
   "version": "3.12.3"
  }
 },
 "nbformat": 4,
 "nbformat_minor": 2
}
