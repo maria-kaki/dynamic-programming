{
 "cells": [
  {
   "cell_type": "code",
   "execution_count": 20,
   "metadata": {},
   "outputs": [
    {
     "name": "stdout",
     "output_type": "stream",
     "text": [
      "Pense em um número!\n"
     ]
    }
   ],
   "source": [
    "lista = range(0,101)\n",
    "resposta = ''\n",
    "print('Pense em um número!')\n",
    "\n",
    "while resposta != 'sim':\n",
    "    if resposta == 'maior':\n",
    "        numero = len(lista)/2\n",
    "\n",
    "    resposta = input(f\"Esse é seu número: {numero}? (responda com sim, maior ou menor)\").lower()"
   ]
  },
  {
   "cell_type": "code",
   "execution_count": 18,
   "metadata": {},
   "outputs": [
    {
     "name": "stdout",
     "output_type": "stream",
     "text": [
      "100\n"
     ]
    }
   ],
   "source": [
    "print(lista[-1])"
   ]
  },
  {
   "cell_type": "code",
   "execution_count": 22,
   "metadata": {},
   "outputs": [
    {
     "name": "stdout",
     "output_type": "stream",
     "text": [
      "3 False\n"
     ]
    }
   ],
   "source": [
    "def busca_linear(lista, numero_a_procurar):\n",
    "    i = 0\n",
    "    while i < len(lista):\n",
    "        if lista[i] == numero_a_procurar:\n",
    "            return i\n",
    "        i = i + 1\n",
    "    return False\n",
    "    \n",
    "elementos = [40,41,42,53,54]\n",
    "a = busca_linear(elementos,53)\n",
    "b = busca_linear(elementos,60)\n",
    "\n",
    "print(a,b)"
   ]
  },
  {
   "cell_type": "code",
   "execution_count": 23,
   "metadata": {},
   "outputs": [
    {
     "data": {
      "text/plain": [
       "(1, 2)"
      ]
     },
     "execution_count": 23,
     "metadata": {},
     "output_type": "execute_result"
    }
   ],
   "source": [
    "def passo_da_busca_binaria(lista,procurando,menor_i,maior_i):\n",
    "    meio = (menor_i+maior_i)//2\n",
    "    if (procurando > lista[meio]): menor_i = meio+1\n",
    "    if (procurando < lista[meio]): maior_i = meio-1\n",
    "    return menor_i,maior_i\n",
    "    \n",
    "elementos = [40,41,42,53,54,60,70,99,102]\n",
    "\n",
    "passo_da_busca_binaria(elementos,45,1,5)"
   ]
  }
 ],
 "metadata": {
  "kernelspec": {
   "display_name": "Python 3",
   "language": "python",
   "name": "python3"
  },
  "language_info": {
   "codemirror_mode": {
    "name": "ipython",
    "version": 3
   },
   "file_extension": ".py",
   "mimetype": "text/x-python",
   "name": "python",
   "nbconvert_exporter": "python",
   "pygments_lexer": "ipython3",
   "version": "3.12.3"
  }
 },
 "nbformat": 4,
 "nbformat_minor": 2
}
